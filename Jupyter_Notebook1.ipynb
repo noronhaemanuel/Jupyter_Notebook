{
 "cells": [
  {
   "cell_type": "markdown",
   "id": "955e05e7-071f-4493-b10e-84d5aee5fa5c",
   "metadata": {},
   "source": [
    "## My Jupyter Notebook on IBM Watson Studio"
   ]
  },
  {
   "cell_type": "markdown",
   "id": "79ad0079-38c2-44d8-a795-ceedbfb82b9b",
   "metadata": {},
   "source": [
    "**Data Science Student**"
   ]
  },
  {
   "cell_type": "markdown",
   "id": "dc0613ef-43e6-4477-a1ff-7572619e2ab1",
   "metadata": {},
   "source": [
    "*I'm interested in learning data science because I see an opportunity to move to a career abroad*"
   ]
  },
  {
   "cell_type": "markdown",
   "id": "43f6f9cb-28ef-4451-b7ad-671fda211c16",
   "metadata": {},
   "source": [
    "### Abaixo vou demonstrar como calcular sequência Fibonacci em Python."
   ]
  },
  {
   "cell_type": "code",
   "execution_count": 12,
   "id": "9a6118f3-e7d8-498b-824a-1c132751862b",
   "metadata": {},
   "outputs": [
    {
     "name": "stdout",
     "output_type": "stream",
     "text": [
      "Olá, eu sou Emanuel. Vou demonstrar como calcular sequência Fibonacci em Python.\n"
     ]
    },
    {
     "name": "stdin",
     "output_type": "stream",
     "text": [
      "A sequência de Fibonacci de:  50\n"
     ]
    },
    {
     "name": "stdout",
     "output_type": "stream",
     "text": [
      "0,1,1,2,3,5,8,13,21,34,FIM\n"
     ]
    }
   ],
   "source": [
    "nome = \"Emanuel\"\n",
    "linguagem_favorita = \"Python\"\n",
    "\n",
    "print(f\"Olá, eu sou {nome}. Vou demonstrar como calcular sequência Fibonacci em Python.\")\n",
    "\n",
    "n = int(input('A sequência de Fibonacci de: '))\n",
    "a, b = 0, 1\n",
    "while a < n:\n",
    "    print(a, end=',')\n",
    "    a, b = b, a+b\n",
    "print('FIM')"
   ]
  },
  {
   "cell_type": "markdown",
   "id": "21d64364-890a-42a1-83ce-b327a1a8a7d8",
   "metadata": {},
   "source": [
    "<a href=\"https://www.linkedin.com/in/emanuel-noronha/\"> My Linkedin</a>"
   ]
  },
  {
   "cell_type": "markdown",
   "id": "2ec89f07-c0bb-480d-a86a-eb2b9879c505",
   "metadata": {},
   "source": [
    "## List of courses for IBM Data Science Professional Certificate"
   ]
  },
  {
   "cell_type": "markdown",
   "id": "ad349122-140e-4497-9416-13146bdd29bb",
   "metadata": {},
   "source": [
    "- [x] ~~What is data science?~~\n",
    "- [x] ~~Tools for Data Science~~\n",
    "- [ ] Data Science Methodology\n",
    "- [ ] Python for Data Science, AI, and Development\n",
    "- [ ] Python Project for Data Science\n",
    "- [ ] Databases and SQL for Data Science with Python\n",
    "- [ ] Análise de dados com Python\n",
    "- [ ] Data Visualization with Python\n",
    "- [ ] Machine learning with Python\n",
    "- [ ] Applied Data Science Capstone"
   ]
  },
  {
   "cell_type": "code",
   "execution_count": null,
   "id": "654818ab-96fc-4202-b9a7-750d53a8577b",
   "metadata": {},
   "outputs": [],
   "source": []
  }
 ],
 "metadata": {
  "kernelspec": {
   "display_name": "Python",
   "language": "python",
   "name": "conda-env-python-py"
  },
  "language_info": {
   "codemirror_mode": {
    "name": "ipython",
    "version": 3
   },
   "file_extension": ".py",
   "mimetype": "text/x-python",
   "name": "python",
   "nbconvert_exporter": "python",
   "pygments_lexer": "ipython3",
   "version": "3.7.12"
  }
 },
 "nbformat": 4,
 "nbformat_minor": 5
}
